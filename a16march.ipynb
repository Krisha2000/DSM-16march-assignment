{
 "cells": [
  {
   "cell_type": "markdown",
   "id": "0645f000-31f2-451b-b454-b9603e08dbc9",
   "metadata": {},
   "source": [
    "# Quetion : 1\n"
   ]
  },
  {
   "cell_type": "markdown",
   "id": "596a7024-5be0-4662-8eb3-d42a29ae7792",
   "metadata": {},
   "source": [
    "Overfitting in machine learning occurs when a model is too complex and has learned to fit the training data too well, resulting in poor generalization on new, unseen data. Underfitting occurs when a model is too simple and cannot capture the complexity of the data, resulting in poor performance on both the training and test data. The consequence of overfitting is that the model is not able to generalize to new data, while the consequence of underfitting is that the model is not able to capture the underlying patterns in the data. To mitigate overfitting, techniques such as regularization, early stopping, and dropout can be used. To mitigate underfitting, techniques such as increasing model complexity, adding more features, and using more sophisticated algorithms can be used."
   ]
  },
  {
   "cell_type": "markdown",
   "id": "2764eb29-8edb-4644-81d5-425c48a9e4de",
   "metadata": {},
   "source": [
    "# Quetion : 2"
   ]
  },
  {
   "cell_type": "markdown",
   "id": "d5aea3b6-2b16-4c93-8448-5e849bdfef6c",
   "metadata": {},
   "source": [
    "To reduce overfitting in machine learning, techniques such as regularization, early stopping, and dropout can be used. Regularization involves adding a penalty term to the loss function to discourage the model from fitting the training data too closely. Early stopping involves stopping the training process before the model starts to overfit the data. Dropout involves randomly dropping out some units during training to reduce the reliance of the model on specific features."
   ]
  },
  {
   "cell_type": "markdown",
   "id": "be503abe-fd8b-445a-93c7-e8f213b27680",
   "metadata": {},
   "source": [
    "# Quetion : 3"
   ]
  },
  {
   "cell_type": "markdown",
   "id": "dcf09ae8-9d74-4e5c-8533-bbb629be9e16",
   "metadata": {},
   "source": [
    "Underfitting occurs when a model is too simple and cannot capture the underlying patterns in the data. This can occur when there is not enough data available, the model is too simplistic, or the algorithm used is not powerful enough to capture the complexity of the data."
   ]
  },
  {
   "cell_type": "markdown",
   "id": "7de75565-22e5-4756-a684-5dc41901ea82",
   "metadata": {},
   "source": [
    "# Quetion : 4"
   ]
  },
  {
   "cell_type": "markdown",
   "id": "4115e5f1-81c1-468f-95a0-34cb0728d460",
   "metadata": {},
   "source": [
    "The bias-variance tradeoff in machine learning refers to the tradeoff between the model's ability to fit the training data well (low bias) and its ability to generalize to new data (low variance). Bias refers to the error introduced by approximating a real-world problem with a simpler model, while variance refers to the error introduced by a model's sensitivity to small fluctuations in the training data. A model with high bias and low variance is typically too simple and underfits the data, while a model with low bias and high variance is typically too complex and overfits the data."
   ]
  },
  {
   "cell_type": "markdown",
   "id": "07fc603b-ed34-453e-92bb-04cd30d0af58",
   "metadata": {},
   "source": [
    "# Quetion : 5"
   ]
  },
  {
   "cell_type": "code",
   "execution_count": null,
   "id": "a93e2c9b-366c-4bad-ae6a-f6fb483a452a",
   "metadata": {},
   "outputs": [],
   "source": []
  },
  {
   "cell_type": "markdown",
   "id": "45375dcc-34d8-4a96-8f8d-91b34befbbeb",
   "metadata": {},
   "source": [
    "# Quetion : 6"
   ]
  },
  {
   "cell_type": "code",
   "execution_count": null,
   "id": "ee012112-65ac-44b7-b767-12ab2d37c349",
   "metadata": {},
   "outputs": [],
   "source": []
  },
  {
   "cell_type": "markdown",
   "id": "5f273d1c-b508-4892-9b8d-38a991689a54",
   "metadata": {},
   "source": [
    "# Quetion : 7"
   ]
  },
  {
   "cell_type": "code",
   "execution_count": null,
   "id": "f9b9dbad-b99c-4013-954a-e85139167ebb",
   "metadata": {},
   "outputs": [],
   "source": []
  }
 ],
 "metadata": {
  "kernelspec": {
   "display_name": "Python 3 (ipykernel)",
   "language": "python",
   "name": "python3"
  },
  "language_info": {
   "codemirror_mode": {
    "name": "ipython",
    "version": 3
   },
   "file_extension": ".py",
   "mimetype": "text/x-python",
   "name": "python",
   "nbconvert_exporter": "python",
   "pygments_lexer": "ipython3",
   "version": "3.10.8"
  }
 },
 "nbformat": 4,
 "nbformat_minor": 5
}
